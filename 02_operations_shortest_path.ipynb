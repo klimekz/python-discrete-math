{
 "cells": [
  {
   "cell_type": "markdown",
   "id": "3a06de2e",
   "metadata": {},
   "source": [
    "Function returning the result of the factorial operation on natural number n."
   ]
  },
  {
   "cell_type": "code",
   "execution_count": 1,
   "id": "eba75468",
   "metadata": {},
   "outputs": [],
   "source": [
    "def factorial(n):\n",
    "    # if input is not a natural number, return\n",
    "    if(n < 0):\n",
    "        # Returns -1 which is an unattainable result of finding factorial,\n",
    "        # but will not cause program to crash if assigned to variable\n",
    "        return-1\n",
    "    # if input equals zero, return one\n",
    "    if(n == 0):\n",
    "        return 1\n",
    "    # calculate result of factorial operation\n",
    "    else:\n",
    "        temp = 1\n",
    "        while n > 0:\n",
    "            temp *= n\n",
    "            n -= 1\n",
    "        return temp"
   ]
  },
  {
   "cell_type": "markdown",
   "id": "9776be90",
   "metadata": {},
   "source": [
    "function returning the result of n choose k"
   ]
  },
  {
   "cell_type": "code",
   "execution_count": 2,
   "id": "c5bece3a",
   "metadata": {},
   "outputs": [],
   "source": [
    "def choose(n, k):\n",
    "    # k cannot be larger than n, since you're choosing k elements from n\n",
    "    if(k > n):\n",
    "        # returns 0, the ways we can choose k from n if k is larger\n",
    "        return 0\n",
    "    # calculates the combination using the formula\n",
    "    return int((factorial(n)) / (((factorial(n-k)) * (factorial(k)))))"
   ]
  },
  {
   "cell_type": "markdown",
   "id": "2d34470b",
   "metadata": {},
   "source": [
    "Function returning the result of P(n,k)."
   ]
  },
  {
   "cell_type": "code",
   "execution_count": 3,
   "id": "2f44a7ba",
   "metadata": {},
   "outputs": [],
   "source": [
    "def perm(n, k):\n",
    "    # k cannot be larger than n, since you're choosing k elements from n\n",
    "    if(k > n):\n",
    "        # returns -1, an impossible result of a combination\n",
    "        return -1\n",
    "    # calculates permutation by multiplying C(n,k) by k!\n",
    "    return int(choose(n, k) * factorial(k))"
   ]
  },
  {
   "cell_type": "markdown",
   "id": "5f4198f9",
   "metadata": {},
   "source": [
    "Function returning the number of shortest lattice paths between two points accepts one list of size two."
   ]
  },
  {
   "cell_type": "code",
   "execution_count": null,
   "id": "0907abe5",
   "metadata": {},
   "outputs": [],
   "source": [
    "def lat_two(a):\n",
    "    # if lists are not of length 2, input is invalid and return\n",
    "    if(len(a) != 2):\n",
    "        return \"List has an invalid length\"\n",
    "    if(len(a[0]) != 2 or len(a[1]) != 2):\n",
    "        return \"At least one list has an invalid length\"\n",
    "    # variable for the number of moves to the right required\n",
    "    moves_right = a[1][0] - a[0][0]\n",
    "    # variable for the shortest total number of moves required\n",
    "    total_moves = moves_right + (a[1][1] - a[0][1])\n",
    "    # calculates number of shortest lattice paths by taking combination\n",
    "    return int(choose(total_moves, moves_right))"
   ]
  }
 ],
 "metadata": {
  "kernelspec": {
   "display_name": "Python 3",
   "language": "python",
   "name": "python3"
  },
  "language_info": {
   "codemirror_mode": {
    "name": "ipython",
    "version": 3
   },
   "file_extension": ".py",
   "mimetype": "text/x-python",
   "name": "python",
   "nbconvert_exporter": "python",
   "pygments_lexer": "ipython3",
   "version": "3.9.0"
  }
 },
 "nbformat": 4,
 "nbformat_minor": 5
}
