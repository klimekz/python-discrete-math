{
 "cells": [
  {
   "cell_type": "markdown",
   "id": "fbfeea96",
   "metadata": {},
   "source": [
    "## Warshall's Algorithm\n",
    "### Fall 2019"
   ]
  },
  {
   "cell_type": "markdown",
   "id": "2ca41e22",
   "metadata": {},
   "source": [
    "Implementation of Warshall's algorithm in Python"
   ]
  },
  {
   "cell_type": "code",
   "execution_count": 1,
   "id": "eef0e574",
   "metadata": {},
   "outputs": [],
   "source": [
    "def Warshall(graph):\n",
    "    #iterates through each step k\n",
    "    for k in range(len(graph)):\n",
    "        # looks at each point A(ij) in the adj matrix\n",
    "        for i in range(len(graph)):\n",
    "            for j in range(len(graph)):\n",
    "                # update the value adding a transitive edge\n",
    "                if(graph[i][k] == 1 and graph[k][j] == 1):\n",
    "                    graph[i][j] = 1\n",
    "    return graph"
   ]
  },
  {
   "cell_type": "markdown",
   "id": "e6196485",
   "metadata": {},
   "source": [
    "Implementation of the Floyd-Warshall algorithm in Python."
   ]
  },
  {
   "cell_type": "code",
   "execution_count": 3,
   "id": "0ffec2e5",
   "metadata": {},
   "outputs": [],
   "source": [
    "def Floyd_Warshall(graph):\n",
    "    # iterates through each position in matrix\n",
    "    for i in range(len(graph)):\n",
    "        for j in range(len(graph)):\n",
    "            # if there is not a directed edge, assign infinity to point\n",
    "            if (graph[i][j] == 0):\n",
    "                graph[i][j] = float(\"inf\")\n",
    "    # iterate through each step k\n",
    "    for k in range(len(graph)):\n",
    "        # iterates through each position in the matrix\n",
    "        for i in range(len(graph)):\n",
    "            for j in range(len(graph)):\n",
    "                # evaluates the iteration step of the algorithm\n",
    "                # updates matrix at position with shortest directed path to point\n",
    "                if(graph[i][j] > (graph[i][k] + graph[k][j])):\n",
    "                    graph[i][j] = graph[i][k] + graph[k][j]\n",
    "    return graph"
   ]
  }
 ],
 "metadata": {
  "kernelspec": {
   "display_name": "Python 3",
   "language": "python",
   "name": "python3"
  },
  "language_info": {
   "codemirror_mode": {
    "name": "ipython",
    "version": 3
   },
   "file_extension": ".py",
   "mimetype": "text/x-python",
   "name": "python",
   "nbconvert_exporter": "python",
   "pygments_lexer": "ipython3",
   "version": "3.9.0"
  }
 },
 "nbformat": 4,
 "nbformat_minor": 5
}
