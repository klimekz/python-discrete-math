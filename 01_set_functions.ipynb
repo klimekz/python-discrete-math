{
 "cells": [
  {
   "cell_type": "markdown",
   "id": "20ede16d",
   "metadata": {},
   "source": [
    "## Set Functions\n",
    "### Winter 2019"
   ]
  },
  {
   "cell_type": "markdown",
   "id": "bb4f6c11",
   "metadata": {},
   "source": [
    "Function returning whether or not a function is injective if any element of codomain has more than one input, return false."
   ]
  },
  {
   "cell_type": "code",
   "execution_count": 1,
   "id": "bc022ce1",
   "metadata": {},
   "outputs": [],
   "source": [
    "def is_injective(dictionary):\n",
    "    # list keeping track of range\n",
    "    range = []\n",
    "    # iterates through each element in the dictionary\n",
    "    for key in dictionary:\n",
    "        for item in range:\n",
    "            # if codomain element is already in range, return false\n",
    "            if dictionary[key] == item:\n",
    "                return False\n",
    "        range.append(dictionary[key])\n",
    "    # if this statement is reached, function must be injective\n",
    "    return True"
   ]
  },
  {
   "cell_type": "markdown",
   "id": "69c9d26f",
   "metadata": {},
   "source": [
    "Function returning whether or not a function is surjective if any element of codomain has no corresponding input, return false."
   ]
  },
  {
   "cell_type": "code",
   "execution_count": 2,
   "id": "aff71441",
   "metadata": {},
   "outputs": [],
   "source": [
    "def is_surjective(function, codomain):\n",
    "    for element in codomain:\n",
    "        # counts number of time element in codomain is an output\n",
    "        counter = 0\n",
    "        for key in function:\n",
    "            if(element == function[key]):\n",
    "                counter += 1\n",
    "        # if element in codomain isn't an output, function returns False\n",
    "        if(counter < 1):\n",
    "            return False\n",
    "    # if this statement is reached, each codomain element has at least one\n",
    "    # corresponding input and the function evaluates to true\n",
    "    return True"
   ]
  },
  {
   "cell_type": "markdown",
   "id": "a2d22b2f",
   "metadata": {},
   "source": [
    "Function returning whether or not a function is bijective. Function must be both injective and surjective."
   ]
  },
  {
   "cell_type": "code",
   "execution_count": null,
   "id": "f0ac7b2d",
   "metadata": {},
   "outputs": [],
   "source": [
    "def is_bijective(function, codomain):\n",
    "    # returns true if function is both injective and surjective\n",
    "    return is_injective(function) and is_surjective(function, codomain)"
   ]
  }
 ],
 "metadata": {
  "kernelspec": {
   "display_name": "Python 3",
   "language": "python",
   "name": "python3"
  },
  "language_info": {
   "codemirror_mode": {
    "name": "ipython",
    "version": 3
   },
   "file_extension": ".py",
   "mimetype": "text/x-python",
   "name": "python",
   "nbconvert_exporter": "python",
   "pygments_lexer": "ipython3",
   "version": "3.9.0"
  }
 },
 "nbformat": 4,
 "nbformat_minor": 5
}
