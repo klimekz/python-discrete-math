{
 "cells": [
  {
   "cell_type": "markdown",
   "id": "a3633791",
   "metadata": {},
   "source": [
    "Function returning an arithmetic sequence given length n, initial term a, and factor d as passed by the user"
   ]
  },
  {
   "cell_type": "code",
   "execution_count": 1,
   "id": "2a09840a",
   "metadata": {},
   "outputs": [],
   "source": [
    "def arith(a, d, n):\n",
    "    # creates the sequence with a0 = a\n",
    "    sequence = [a]\n",
    "    index = 1\n",
    "\n",
    "    # adds the result of adding d to the previous element up until there are n elements\n",
    "    while index < n:\n",
    "        sequence.append(sequence[index - 1] + d)\n",
    "        index = index + 1\n",
    "\n",
    "    # returns the arithmetic sequence\n",
    "    return sequence"
   ]
  },
  {
   "cell_type": "markdown",
   "id": "632439c5",
   "metadata": {},
   "source": [
    "Function returning a geometric sequence based on parameters passed by the user."
   ]
  },
  {
   "cell_type": "code",
   "execution_count": 3,
   "id": "6c85bc20",
   "metadata": {},
   "outputs": [],
   "source": [
    "def geo(a, r, n):\n",
    "    # creates the sequence with a0 equaling a\n",
    "    sequence = [a]\n",
    "    index = 1\n",
    "\n",
    "    # multiplies the previous element by the factor r and adds element to sequence\n",
    "    while index < n:\n",
    "        sequence.append(sequence[index - 1] * r)\n",
    "        index = index + 1\n",
    "\n",
    "    # returns the geometric sequence\n",
    "    return sequence"
   ]
  },
  {
   "cell_type": "markdown",
   "id": "a6199de3",
   "metadata": {},
   "source": [
    "Recursively generate the first ten terms of a recursive function"
   ]
  },
  {
   "cell_type": "code",
   "execution_count": 4,
   "id": "0a6c9b6f",
   "metadata": {},
   "outputs": [],
   "source": [
    "def recur(a, b, a0, a1):\n",
    "    # define the sequence with the initial conditions a0 and a1\n",
    "    seq = [a0, a1]\n",
    "    i = 2\n",
    "    # iterate until there are 10 elements in the sequence\n",
    "    while i < 10:\n",
    "        # use previous elements in sequence to recursively determine a sub n\n",
    "        result = (a * seq[i - 1]) + (b * seq[i - 2])\n",
    "        seq.append(result)\n",
    "        i = i + 1\n",
    "    # return the sequence of the first ten terms\n",
    "    return seq"
   ]
  },
  {
   "cell_type": "markdown",
   "id": "40e720a0",
   "metadata": {},
   "source": [
    "Returns the boolean result of if a function is delta-one constant"
   ]
  },
  {
   "cell_type": "code",
   "execution_count": 5,
   "id": "606d5f4f",
   "metadata": {},
   "outputs": [],
   "source": [
    "def delta_one(sequence):\n",
    "    index = 0\n",
    "    # iterates through each difference in the sequence\n",
    "    while index < len(sequence) - 2:\n",
    "        # compares the difference of index and index + 1 and index + 1 and index + 2\n",
    "        if(sequence[index] - sequence[index + 1] !=\n",
    "           sequence[index + 1] - sequence[index + 2]):\n",
    "            # returns False if at any point the differences are not the same\n",
    "            return False\n",
    "        index = index + 1\n",
    "    # returns True if loop is completed without differences\n",
    "    return True"
   ]
  },
  {
   "cell_type": "markdown",
   "id": "1906055f",
   "metadata": {},
   "source": [
    "returns the boolean result of if a function is delta-two constant"
   ]
  },
  {
   "cell_type": "code",
   "execution_count": 7,
   "id": "81b08b31",
   "metadata": {},
   "outputs": [],
   "source": [
    "def delta_two(sequence):\n",
    "    # if the sequence is delta-one constant, return true\n",
    "    if(delta_one(sequence)):\n",
    "        return True\n",
    "    index = 0\n",
    "    first_difference = []\n",
    "    while index < len(sequence) - 1:\n",
    "        # generate an array of the first differences of the terms in the sequence\n",
    "        first_difference.append(sequence[index] - sequence[index + 1])\n",
    "        index += 1\n",
    "    # passing first differences to delta_one determines if the second differences\n",
    "    # are constant\n",
    "    return delta_one(first_difference)"
   ]
  },
  {
   "cell_type": "markdown",
   "id": "fed106f0",
   "metadata": {},
   "source": [
    "Returns the boolean result of if a function is delta-three constant."
   ]
  },
  {
   "cell_type": "code",
   "execution_count": 8,
   "id": "a640488b",
   "metadata": {},
   "outputs": [],
   "source": [
    "def delta_three(sequence):\n",
    "    # if the sequence is delta-one or delta-two constant, return true\n",
    "    if(delta_one(sequence) or delta_two(sequence)):\n",
    "        return True\n",
    "    index = 0;\n",
    "    first_difference = []\n",
    "    while index < len(sequence) - 1:\n",
    "        # generate an array of the first differences of the terms in the sequence\n",
    "        first_difference.append(sequence[index] - sequence[index + 1])\n",
    "        index += 1\n",
    "    # passing first differences to delta_two determines if the third differences\n",
    "    # are constant\n",
    "    return delta_two(first_difference)"
   ]
  }
 ],
 "metadata": {
  "kernelspec": {
   "display_name": "Python 3",
   "language": "python",
   "name": "python3"
  },
  "language_info": {
   "codemirror_mode": {
    "name": "ipython",
    "version": 3
   },
   "file_extension": ".py",
   "mimetype": "text/x-python",
   "name": "python",
   "nbconvert_exporter": "python",
   "pygments_lexer": "ipython3",
   "version": "3.9.0"
  }
 },
 "nbformat": 4,
 "nbformat_minor": 5
}
