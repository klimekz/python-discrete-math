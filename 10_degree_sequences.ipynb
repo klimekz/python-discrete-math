{
 "cells": [
  {
   "cell_type": "markdown",
   "id": "e59405c5",
   "metadata": {},
   "source": [
    "Function returns the degree sequence of a graph as an ordered list."
   ]
  },
  {
   "cell_type": "code",
   "execution_count": 4,
   "id": "5769a591",
   "metadata": {},
   "outputs": [],
   "source": [
    "def degree_sequence(graph):\n",
    "    # list representing the degree sequence\n",
    "    deg_seq = []\n",
    "    # iterates through dictionary of graph to look at each vertex\n",
    "    for key in graph:\n",
    "        # counts the number of connections by finding the lenghth of the\n",
    "        # list containing points connected to the verted\n",
    "        deg_seq.append(len(graph[key]))\n",
    "    # uses sort() to order in non-increasing order\n",
    "    deg_seq.sort(reverse = True)\n",
    "    # returns the new list containing the graph's degree sequence\n",
    "    return deg_seq"
   ]
  },
  {
   "cell_type": "markdown",
   "id": "33267ece",
   "metadata": {},
   "source": [
    "Returns the boolean result of the Havel-Hakimi algorithm passed as a list of integeres as input."
   ]
  },
  {
   "cell_type": "code",
   "execution_count": null,
   "id": "23041bbd",
   "metadata": {},
   "outputs": [],
   "source": [
    "def Havel_Hakimi(integers):\n",
    "    # iterates until the list only has 2 elements\n",
    "    while(len(integers) >= 2):\n",
    "        # upon each iteration, sorts list in non-increasing order\n",
    "        integers.sort(reverse = True)\n",
    "        index_zero = integers[0]\n",
    "        placeholder = []\n",
    "        # creates a placeholder list containing all but the first element\n",
    "        for item in integers[1:]:\n",
    "            placeholder.append(item)\n",
    "        # return True if both elements are equal to 0, False otherwise\n",
    "        if len(integers) == 2:\n",
    "            if integers[0] != 0 or integers[1] != 0:\n",
    "                return False\n",
    "            else:\n",
    "                return True\n",
    "        # returns false if the first value is greater than the length of the list\n",
    "        elif integers[0] >= len(integers):\n",
    "            return False\n",
    "        else:\n",
    "        # if reached, subtracts one from n elements in the placeholder list where\n",
    "        # n equals the value of the first (0th) index of the list\n",
    "            for item in range(index_zero):\n",
    "                placeholder[item] -= 1\n",
    "            # sets the actual array equal to the placeholder array for\n",
    "            # the next iteration\n",
    "            integers = placeholder\n"
   ]
  }
 ],
 "metadata": {
  "kernelspec": {
   "display_name": "Python 3",
   "language": "python",
   "name": "python3"
  },
  "language_info": {
   "codemirror_mode": {
    "name": "ipython",
    "version": 3
   },
   "file_extension": ".py",
   "mimetype": "text/x-python",
   "name": "python",
   "nbconvert_exporter": "python",
   "pygments_lexer": "ipython3",
   "version": "3.9.0"
  }
 },
 "nbformat": 4,
 "nbformat_minor": 5
}
