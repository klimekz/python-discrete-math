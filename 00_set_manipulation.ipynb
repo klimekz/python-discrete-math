{
 "cells": [
  {
   "cell_type": "markdown",
   "id": "46dc1df3",
   "metadata": {},
   "source": [
    "## Set Manipulation\n",
    "### Winter 2019"
   ]
  },
  {
   "cell_type": "markdown",
   "id": "07e170bf",
   "metadata": {},
   "source": [
    "Function converting a python list to a set"
   ]
  },
  {
   "cell_type": "code",
   "execution_count": 1,
   "id": "981d06e2",
   "metadata": {},
   "outputs": [],
   "source": [
    "# function converting a python list to a set\n",
    "def make_set(set):\n",
    "    new_set = []\n",
    "    # iterates through set and adds item to the set being returned\n",
    "    # if it hasn't already been added\n",
    "    for item in set:\n",
    "        if item in new_set:\n",
    "            pass # do nothing - item is not added\n",
    "        else:\n",
    "            new_set.append(item)\n",
    "    return new_set"
   ]
  },
  {
   "cell_type": "markdown",
   "id": "426de66f",
   "metadata": {},
   "source": [
    "Function taking the union of two sets passed as input"
   ]
  },
  {
   "cell_type": "code",
   "execution_count": 2,
   "id": "3f0dfa0e",
   "metadata": {},
   "outputs": [],
   "source": [
    "def union(set_one, set_two):\n",
    "    # adds each item in set_two to set_one\n",
    "    for item in set_two:\n",
    "        set_one.append(item)\n",
    "    return_set = []\n",
    "    # similar to the make_set function, set is iterated through and\n",
    "    # non-repeated elements are added to the set being returned\n",
    "    for item in set_one:\n",
    "        if item in return_set:\n",
    "            pass # do nothing\n",
    "        else:\n",
    "            return_set.append(item)\n",
    "    return return_set"
   ]
  },
  {
   "cell_type": "markdown",
   "id": "b5ba45e3",
   "metadata": {},
   "source": [
    "Function taking the intersection of two sets passed as input"
   ]
  },
  {
   "cell_type": "code",
   "execution_count": 4,
   "id": "832dfaa9",
   "metadata": {},
   "outputs": [],
   "source": [
    "def intersect(set_one, set_two):\n",
    "    intersect_set = []\n",
    "    for item in set_one:\n",
    "        # if item in set_one is in set_two, item is added to set being returned\n",
    "        if item in set_two:\n",
    "            intersect_set.append(item)\n",
    "    return intersect_set"
   ]
  },
  {
   "cell_type": "markdown",
   "id": "6d007c71",
   "metadata": {},
   "source": [
    "Function taking the symmetric difference of two sets passed as input "
   ]
  },
  {
   "cell_type": "code",
   "execution_count": null,
   "id": "8b2a560c",
   "metadata": {},
   "outputs": [],
   "source": [
    "def symmetric_diff(set_one, set_two):\n",
    "    symm_set = []\n",
    "    # any item in set_one that isn't in set_two is added to new set\n",
    "    for item in set_one:\n",
    "        if item in set_two:\n",
    "            pass # do nothing\n",
    "        else:\n",
    "            symm_set.append(item)\n",
    "    # any item in set_two that isn't in set_one is added to new set\n",
    "    for item in set_two:\n",
    "        if item in set_one:\n",
    "            pass # do nothing\n",
    "        else:\n",
    "            symm_set.append(item)\n",
    "    return symm_set"
   ]
  }
 ],
 "metadata": {
  "kernelspec": {
   "display_name": "Python 3",
   "language": "python",
   "name": "python3"
  },
  "language_info": {
   "codemirror_mode": {
    "name": "ipython",
    "version": 3
   },
   "file_extension": ".py",
   "mimetype": "text/x-python",
   "name": "python",
   "nbconvert_exporter": "python",
   "pygments_lexer": "ipython3",
   "version": "3.9.0"
  }
 },
 "nbformat": 4,
 "nbformat_minor": 5
}
