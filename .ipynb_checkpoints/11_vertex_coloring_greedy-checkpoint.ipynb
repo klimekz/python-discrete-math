{
 "cells": [
  {
   "cell_type": "markdown",
   "id": "e600e7a5",
   "metadata": {},
   "source": [
    "Function verifying if vertex coloring of a graph is correct based on a graph and the vertex coloring of a graph represented as a dictionary passed as input."
   ]
  },
  {
   "cell_type": "code",
   "execution_count": 1,
   "id": "a9a0ddf6",
   "metadata": {},
   "outputs": [],
   "source": [
    "def is_proper(graph, vertex_coloring):\n",
    "    # loop iterating through each vertex on the graph\n",
    "    for key in graph:\n",
    "        # loop iterating through each vertex that shares an edge\n",
    "        # with the vertex being examined in the outer loop\n",
    "        for element in graph[key]:\n",
    "            # if the vertices have the same coloring, the function returns false\n",
    "            if vertex_coloring[key] == vertex_coloring[element]:\n",
    "                return(False)\n",
    "    # if no vertices that share an edge have been colored the same\n",
    "    return(True)"
   ]
  },
  {
   "cell_type": "markdown",
   "id": "2c4d6fda",
   "metadata": {},
   "source": [
    "Function modeling the greedy algorithm of coloring the vertices of a graph."
   ]
  },
  {
   "cell_type": "code",
   "execution_count": 2,
   "id": "d36c0662",
   "metadata": {},
   "outputs": [],
   "source": [
    "def greedy(graph, ordering):\n",
    "    # list representing the final coloring of the vertices\n",
    "    coloring = []\n",
    "    # initializing the coloring array with \"null\" zeroes\n",
    "    for i in range(1, len(ordering) + 1):\n",
    "        coloring.append(0)\n",
    "        # iterate through each vertex in order\n",
    "    for vertex in ordering:\n",
    "        # list containing the location of adjacent vertices in the ordering list\n",
    "        adjacent_order_index = []\n",
    "        # list containing the colors of adjacent vertices\n",
    "        adjacent_colors = []\n",
    "        # iterates through the adjacent vertices\n",
    "        for v in graph[vertex]:\n",
    "            # add index of each vertex in ordering to list\n",
    "            adjacent_order_index.append(order.index(v))\n",
    "        # add the color of the vertex to the adjacent colors list\n",
    "        for value in adjacent_order_index:\n",
    "            adjacent_colors.append(coloring[value])\n",
    "        # from one to the max number of colors (total number of vertices), iterate\n",
    "        # through each possible color and check if vertex can be colored as such\n",
    "        for i in range(1, len(graph) + 1):\n",
    "            # if the color is shared with an adjacent vertex, go to the  next color\n",
    "            if i in adjacent_colors:\n",
    "                pass\n",
    "            # if the color is not shared, color the vertex that color\n",
    "            else:\n",
    "                coloring[ordering.index(vertex)] = i\n",
    "                break\n",
    "    # pair the coloring list with the ordering list in a dictionary\n",
    "    return_graph = {}\n",
    "    sorted_graph = {}\n",
    "    # assign the color to the dictionary at the vertex\n",
    "    for i in range(len(graph)):\n",
    "        return_graph[ordering[i]] = coloring[i]\n",
    "    # sort the dictionary to appear in ascending order\n",
    "    for key in sorted(return_graph.keys()):\n",
    "        sorted_graph[key] = return_graph[key]\n",
    "    # return the final, colored graph\n",
    "    return sorted_graph"
   ]
  }
 ],
 "metadata": {
  "kernelspec": {
   "display_name": "Python 3",
   "language": "python",
   "name": "python3"
  },
  "language_info": {
   "codemirror_mode": {
    "name": "ipython",
    "version": 3
   },
   "file_extension": ".py",
   "mimetype": "text/x-python",
   "name": "python",
   "nbconvert_exporter": "python",
   "pygments_lexer": "ipython3",
   "version": "3.9.0"
  }
 },
 "nbformat": 4,
 "nbformat_minor": 5
}
